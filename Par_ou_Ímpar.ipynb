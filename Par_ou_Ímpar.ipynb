{
  "nbformat": 4,
  "nbformat_minor": 0,
  "metadata": {
    "colab": {
      "provenance": []
    },
    "kernelspec": {
      "name": "python3",
      "display_name": "Python 3"
    },
    "language_info": {
      "name": "python"
    }
  },
  "cells": [
    {
      "cell_type": "code",
      "execution_count": null,
      "metadata": {
        "id": "RNC18aJuJsTx"
      },
      "outputs": [],
      "source": [
        "# 1- Defina quem serão os jogadores.\n",
        "# 2- Definir quem escolhe primeiro.\n",
        "# 3- Definir a escolha entre Par ou ímpar.\n",
        "# 4- Coletar os números escolhidos pelos jogadores.\n",
        "# 5- Calcular a soma dos números.\n",
        "# 6- Informar o ganhador"
      ]
    },
    {
      "cell_type": "code",
      "source": [
        "p1 =input('Digite o nome do primeiro player: ')\n",
        "p2 =input('Digite o nome do segundo player: ')\n",
        "print(' Quem escolhe  primeiro {} ou {} ??'.format(p1, p2))\n",
        "primeiro_jogador = input(' Digite 1 para escolher {} ou 2 para escolher {} '.format(p1 ,p2))\n",
        "segundo_jogador  = p2\n",
        "\n",
        "if primeiro_jogador == \"1\":\n",
        "  primeiro_jogador = p1\n",
        "if segundo_jogador == p2:\n",
        "  if primeiro_jogador == \"2\":\n",
        "    primeiro_jogador = p2\n",
        "    segundo_jogador = p1\n",
        "\n",
        "print(' Digite 0 para escolher Par ou 1 para escolher ímpar')\n",
        "escolha =input('{} Você escolhe entre ÍMPAR ou PAR '.format(primeiro_jogador))\n",
        "escolha2 = segundo_jogador\n",
        "\n",
        "if escolha == 'ímpar' or escolha == 'impar' or escolha == '1':\n",
        "  if escolha == 'ímpar':\n",
        "    pass\n",
        "  if escolha2 == 'par':\n",
        "    pass\n",
        "elif escolha == 'par' or escolha == '0':\n",
        "  escolha = 'par'\n",
        "  escolha2 = 'ímpar'\n",
        "print(' {} jogador você ficou com a {} e o {} ficou com a {}.'.format(segundo_jogador, escolha2, primeiro_jogador, escolha))\n",
        "\n",
        "numero1 = int(input(' {} digite um número '.format(primeiro_jogador)))\n",
        "numero2 = int(input(' {} digite um número '.format(segundo_jogador)))\n",
        "\n",
        "soma = numero1 + numero2\n",
        "if soma % 2 == 0:\n",
        "   vencedor = 'par'\n",
        "else:\n",
        "   vencedor ='ímpar'\n",
        "\n",
        "if vencedor == escolha:\n",
        "   print('{} ganhou !!'.format(primeiro_jogador))\n",
        "else:\n",
        "   print('{} ganhou !!'.format(segundo_jogador))"
      ],
      "metadata": {
        "colab": {
          "base_uri": "https://localhost:8080/"
        },
        "id": "scK0gHfGe8Bj",
        "outputId": "0a4d31d2-0590-49ea-df54-9aaeb671e2de"
      },
      "execution_count": null,
      "outputs": [
        {
          "output_type": "stream",
          "name": "stdout",
          "text": [
            "Digite o nome do primeiro player: william\n",
            "Digite o nome do segundo player: maria\n",
            " Quem escolhe  primeiro william ou maria ??\n",
            " Digite 1 para escolher william ou 2 para escolher maria 1\n",
            " Digite 0 para escolher Par ou 1 para escolher ímpar\n",
            "william Você escolhe entre ÍMPAR ou PAR 0\n",
            " maria jogador você ficou com a ímpar e o william ficou com a par.\n",
            " william digite um número 2\n",
            " maria digite um número 2\n",
            "william ganhou !!\n"
          ]
        }
      ]
    },
    {
      "cell_type": "code",
      "source": [],
      "metadata": {
        "id": "H_JMO0BRgup4"
      },
      "execution_count": null,
      "outputs": []
    }
  ]
}